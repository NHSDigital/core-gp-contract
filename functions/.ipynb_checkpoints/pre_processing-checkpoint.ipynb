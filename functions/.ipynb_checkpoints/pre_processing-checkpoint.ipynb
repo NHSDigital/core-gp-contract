{
 "cells": [
  {
   "cell_type": "code",
   "execution_count": null,
   "id": "1815799c",
   "metadata": {},
   "outputs": [],
   "source": [
    "core_contract_table = \"ENTER TABLE HERE\"\n",
    "practice_table = \"ENTER TABLE HERE\""
   ]
  },
  {
   "cell_type": "code",
   "execution_count": null,
   "id": "e2f6590b",
   "metadata": {},
   "outputs": [],
   "source": [
    "# Databricks notebook source\n",
    "def get_gmspmstable() -> pd.DataFrame:\n",
    "    \"\"\"\n",
    "    Get gms_pms_table. \n",
    "    Returns: gms_pms_table - dataframe contains necessary data\n",
    "    \"\"\"\n",
    "    # Get database table from core_contract_cc_store\n",
    "    gms_pms_table = spark.table(core_contract_table)\n",
    "    \n",
    "    return gms_pms_table\n",
    "  \n",
    "  \n",
    "def get_pracdf() -> pd.DataFrame:\n",
    "    \"\"\"\n",
    "    Get practice_details_df. \n",
    "    Returns: practice_details_df - dataframe contains details on practice details\n",
    "    \"\"\"\n",
    "    # Creating a new DataFrame \"practice_details_df\" containing practice code and practice name\n",
    "    practice_details_df = spark.sql(f\"\"\"\n",
    "        SELECT CODE, NAME\n",
    "        '{practice_table}'\n",
    "        WHERE\n",
    "            DSS_RECORD_START_DATE <= '{report_period_end}'\n",
    "            AND (DSS_RECORD_END_DATE >= '{report_period_end}' OR DSS_RECORD_END_DATE IS NULL) \n",
    "            AND PRESCRIBING_SETTING = 4\n",
    "        ORDER BY CODE\n",
    "    \"\"\")\n",
    "    \n",
    "    return practice_details_df"
   ]
  }
 ],
 "metadata": {
  "kernelspec": {
   "display_name": "Python 3 (ipykernel)",
   "language": "python",
   "name": "python3"
  },
  "language_info": {
   "codemirror_mode": {
    "name": "ipython",
    "version": 3
   },
   "file_extension": ".py",
   "mimetype": "text/x-python",
   "name": "python",
   "nbconvert_exporter": "python",
   "pygments_lexer": "ipython3",
   "version": "3.9.13"
  }
 },
 "nbformat": 4,
 "nbformat_minor": 5
}
