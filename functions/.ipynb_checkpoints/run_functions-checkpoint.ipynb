{
 "cells": [
  {
   "cell_type": "code",
   "execution_count": null,
   "id": "e0167154",
   "metadata": {},
   "outputs": [],
   "source": [
    "%run ./pre_processing"
   ]
  },
  {
   "cell_type": "code",
   "execution_count": null,
   "id": "f72866de",
   "metadata": {},
   "outputs": [],
   "source": [
    "%run ./Data_Ingestion"
   ]
  },
  {
   "cell_type": "code",
   "execution_count": null,
   "id": "2b83a2cf",
   "metadata": {},
   "outputs": [],
   "source": [
    "%run ./Suppression"
   ]
  },
  {
   "cell_type": "code",
   "execution_count": null,
   "id": "abe489ad",
   "metadata": {},
   "outputs": [],
   "source": [
    "%run ./Quartely_Split"
   ]
  },
  {
   "cell_type": "code",
   "execution_count": null,
   "id": "95957ad6",
   "metadata": {},
   "outputs": [],
   "source": [
    "%run ./Spot_Checks"
   ]
  }
 ],
 "metadata": {
  "kernelspec": {
   "display_name": "Python 3 (ipykernel)",
   "language": "python",
   "name": "python3"
  },
  "language_info": {
   "codemirror_mode": {
    "name": "ipython",
    "version": 3
   },
   "file_extension": ".py",
   "mimetype": "text/x-python",
   "name": "python",
   "nbconvert_exporter": "python",
   "pygments_lexer": "ipython3",
   "version": "3.9.13"
  }
 },
 "nbformat": 4,
 "nbformat_minor": 5
}
