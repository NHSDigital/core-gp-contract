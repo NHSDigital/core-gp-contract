{
 "cells": [
  {
   "cell_type": "code",
   "execution_count": null,
   "id": "bd61d6ce",
   "metadata": {},
   "outputs": [],
   "source": [
    "# Databricks notebook source\n",
    "def quartely_split(df : DataFrame, split_quarters = False) -> None:\n",
    "    \"\"\"\n",
    "    Splits the DataFrame into four quarters.\n",
    "    Parameters: \n",
    "    df - DataFrame to split into four quarters\n",
    "    Returns:\n",
    "    None\n",
    "    \"\"\"\n",
    "    #This splits the data if enabled\n",
    "    if split_quarters == True:\n",
    "      \n",
    "         quarter1 = main_supp_out.filter(\n",
    "             (F.col('ACH_DATE') >= (report_period_start)) &\n",
    "             (F.col('ACH_DATE') <= (report_period_end - pd.DateOffset(months=9)))\n",
    "         )\n",
    "        \n",
    "         quarter2 = main_supp_out.filter(\n",
    "             (F.col('ACH_DATE') >= (report_period_start + pd.DateOffset(months=3))) &\n",
    "             (F.col('ACH_DATE') <= (report_period_end - pd.DateOffset(months=6)))\n",
    "         )\n",
    "          \n",
    "         quarter3 =  main_supp_out.filter(\n",
    "             (F.col('ACH_DATE') >= (report_period_start + pd.DateOffset(months=6))) &\n",
    "             (F.col('ACH_DATE') <= (report_period_end - pd.DateOffset(months=3)))\n",
    "         \n",
    "         )\n",
    "        \n",
    "         quarter4 = main_supp_out.filter(\n",
    "             (F.col('ACH_DATE') >= (report_period_start + pd.DateOffset(months=9))) & \n",
    "             (F.col('ACH_DATE') <= (report_period_end))\n",
    "         )\n",
    "        \n",
    "         #Display each quarter\n",
    "         display(quarter1)\n",
    "         display(quarter2)\n",
    "         display(quarter3)\n",
    "         display(quarter4)\n",
    "\n",
    "          "
   ]
  }
 ],
 "metadata": {
  "kernelspec": {
   "display_name": "Python 3 (ipykernel)",
   "language": "python",
   "name": "python3"
  },
  "language_info": {
   "codemirror_mode": {
    "name": "ipython",
    "version": 3
   },
   "file_extension": ".py",
   "mimetype": "text/x-python",
   "name": "python",
   "nbconvert_exporter": "python",
   "pygments_lexer": "ipython3",
   "version": "3.9.13"
  }
 },
 "nbformat": 4,
 "nbformat_minor": 5
}
