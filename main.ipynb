{
 "cells": [
  {
   "cell_type": "markdown",
   "id": "2bf6593a",
   "metadata": {},
   "source": [
    "# ALCOHOL AND GMS/PMS PUBLICATION JOB\n",
    "\n",
    "This job outputs four quarterly CSVs for the entire financial year after suppression applied "
   ]
  },
  {
   "cell_type": "markdown",
   "id": "068d8356",
   "metadata": {},
   "source": [
    "### CONTENTS\n",
    "\n",
    "<li>Getting data from the database</li>\n",
    "<li>Testing outputs</li>\n",
    "<li>Suppresssion</li>\n",
    "<li>Quarterly Split</li>\n",
    "<li>Spot checks on few practices</li>\n",
    "<li>Addendum : Suppresssion rule 3</li>"
   ]
  },
  {
   "cell_type": "code",
   "execution_count": null,
   "id": "8019ad91",
   "metadata": {},
   "outputs": [],
   "source": [
    "import pyspark.sql.functions as F\n",
    "from pyspark.sql.functions import substring_index,substring,count,countDistinct,col , when\n",
    "import pandas as pd\n",
    "import datetime\n",
    "from pyspark.sql.types import StructType, StructField, StringType, IntegerType, DateType, FloatType, LongType\n",
    "from pyspark.sql import DataFrame"
   ]
  },
  {
   "cell_type": "code",
   "execution_count": null,
   "id": "90d1add5",
   "metadata": {},
   "outputs": [],
   "source": [
    "%run ./parameters"
   ]
  },
  {
   "cell_type": "code",
   "execution_count": null,
   "id": "9985d948",
   "metadata": {},
   "outputs": [],
   "source": [
    "import time\n",
    "logging_data = {\"Time\" : [], \"Log_Type\" : [], \"Message\" : []}\n",
    "logging_df = pd.DataFrame(logging_data)\n",
    "\n",
    "def log_info(report_msg : str) -> str:\n",
    "  \n",
    "    \"\"\"Gets the current time. \n",
    "    Parameters: report_msg - A string about the report message\n",
    "    Returns: now - The current time as a string\"\"\"\n",
    "    \n",
    "    now = time.strftime(\"%d/%m/%Y %H:%M\")\n",
    "    logging_df.loc[len(logging_df)] = [now, \"Info\", report_msg]\n",
    "    return now\n",
    "    \n",
    "def log_test(report_msg : str) -> str:\n",
    "  \n",
    "    \"\"\"Gets the current time. \n",
    "    Parameters: report_msg - A string about the report message\n",
    "    Returns: now - The current time as a string\"\"\"\n",
    "    \n",
    "    now = time.strftime(\"%d/%m/%Y %H:%M\")\n",
    "    logging_df.loc[len(logging_df)] = [now, \"Test\", report_msg]\n",
    "    return now\n",
    "\n",
    "log_info(\"report start = \" + report_start)\n",
    "log_info(\"report end = \" + report_end)\n",
    "log_info(\"service year = \" + service_year)"
   ]
  },
  {
   "cell_type": "code",
   "execution_count": null,
   "id": "06fea621",
   "metadata": {},
   "outputs": [],
   "source": [
    "dbutils.widgets.removeAll()"
   ]
  },
  {
   "cell_type": "code",
   "execution_count": null,
   "id": "db4fa171",
   "metadata": {},
   "outputs": [],
   "source": [
    "#create widget for data report time\n",
    "dbutils.widgets.text(\"report_start\", defaultValue= report_start , label=\"Reporting Period Start Date\")\n",
    "dbutils.widgets.text(\"report_end\", defaultValue= report_end, label=\"Reporting Period End Date\")\n",
    "dbutils.widgets.text(\"service_year\", defaultValue= service_year, label=\"Service Year\")\n",
    "\n",
    "log_info(\"Successfully set the widget time texts\")"
   ]
  },
  {
   "cell_type": "code",
   "execution_count": null,
   "id": "860a5837",
   "metadata": {},
   "outputs": [],
   "source": [
    "#settings\n",
    "report_period_start = pd.to_datetime(report_start)\n",
    "report_period_end = pd.to_datetime(report_end)\n",
    "quality_service_name = f\"Core GP Contract {service_year}\""
   ]
  },
  {
   "cell_type": "markdown",
   "id": "ddfed775",
   "metadata": {},
   "source": [
    "### Input Checks"
   ]
  },
  {
   "cell_type": "code",
   "execution_count": null,
   "id": "8eddfc6d",
   "metadata": {},
   "outputs": [],
   "source": [
    "%run ./tests/input_checks"
   ]
  },
  {
   "cell_type": "code",
   "execution_count": null,
   "id": "3c8e3e99",
   "metadata": {},
   "outputs": [],
   "source": [
    "print(logging_df)"
   ]
  },
  {
   "cell_type": "markdown",
   "id": "f8cdc208",
   "metadata": {},
   "source": [
    "### Run all functions needed\n"
   ]
  },
  {
   "cell_type": "code",
   "execution_count": null,
   "id": "3f9522c3",
   "metadata": {},
   "outputs": [],
   "source": [
    "%run ./functions/run_functions"
   ]
  },
  {
   "cell_type": "markdown",
   "id": "e3230e53",
   "metadata": {},
   "source": [
    "### Data Ingestion"
   ]
  },
  {
   "cell_type": "code",
   "execution_count": null,
   "id": "276342ad",
   "metadata": {},
   "outputs": [],
   "source": [
    "final_df = data_ingestion(print_tables=False)"
   ]
  },
  {
   "cell_type": "markdown",
   "id": "05fc0f57",
   "metadata": {},
   "source": [
    "### Unit Tests for Testing and Suppression"
   ]
  },
  {
   "cell_type": "code",
   "execution_count": null,
   "id": "b82cec69",
   "metadata": {},
   "outputs": [],
   "source": [
    "%run ./tests/function_test_suite"
   ]
  },
  {
   "cell_type": "code",
   "execution_count": null,
   "id": "da968d90",
   "metadata": {},
   "outputs": [],
   "source": [
    "%run ./tests/testing_data"
   ]
  },
  {
   "cell_type": "code",
   "execution_count": null,
   "id": "7b0825f5",
   "metadata": {},
   "outputs": [],
   "source": [
    "print(logging_df)"
   ]
  },
  {
   "cell_type": "code",
   "execution_count": null,
   "id": "b4f7e0c7",
   "metadata": {},
   "outputs": [],
   "source": [
    "%run ./tests/test_suppression"
   ]
  },
  {
   "cell_type": "code",
   "execution_count": null,
   "id": "c9380d4d",
   "metadata": {},
   "outputs": [],
   "source": [
    "print(logging_df)"
   ]
  },
  {
   "cell_type": "markdown",
   "id": "999efbe3",
   "metadata": {},
   "source": [
    "### Suppression"
   ]
  },
  {
   "cell_type": "code",
   "execution_count": null,
   "id": "4ef9a977",
   "metadata": {},
   "outputs": [],
   "source": [
    "main_table, main_supp_out = apply_suppression(final_df)"
   ]
  },
  {
   "cell_type": "markdown",
   "id": "f7d65fbe",
   "metadata": {},
   "source": [
    "### Quartely Split"
   ]
  },
  {
   "cell_type": "code",
   "execution_count": null,
   "id": "6505c175",
   "metadata": {},
   "outputs": [],
   "source": [
    "quartely_split(main_supp_out, split_quarters = True)"
   ]
  },
  {
   "cell_type": "markdown",
   "id": "4d79d8c7",
   "metadata": {},
   "source": [
    "### QA TESTS"
   ]
  },
  {
   "cell_type": "code",
   "execution_count": null,
   "id": "537f87db",
   "metadata": {},
   "outputs": [],
   "source": [
    "%run ./tests/QA_checks"
   ]
  },
  {
   "cell_type": "code",
   "execution_count": null,
   "id": "0673e86d",
   "metadata": {},
   "outputs": [],
   "source": [
    "display(logging_df)"
   ]
  },
  {
   "cell_type": "markdown",
   "id": "fa97ee4f",
   "metadata": {},
   "source": [
    "### Spot Checks"
   ]
  },
  {
   "cell_type": "code",
   "execution_count": null,
   "id": "4d7bc9c0",
   "metadata": {},
   "outputs": [],
   "source": [
    "#Compare spot checked Spark DataFrames before and after suppression. These tables are randomly generated by picking 4 random suppressed practice_codes.\n",
    "before_suppression_test_df, after_suppresion_test_df = spot_check(main_table, main_supp_out, display_table = True)"
   ]
  }
 ],
 "metadata": {
  "kernelspec": {
   "display_name": "Python 3 (ipykernel)",
   "language": "python",
   "name": "python3"
  },
  "language_info": {
   "codemirror_mode": {
    "name": "ipython",
    "version": 3
   },
   "file_extension": ".py",
   "mimetype": "text/x-python",
   "name": "python",
   "nbconvert_exporter": "python",
   "pygments_lexer": "ipython3",
   "version": "3.9.13"
  }
 },
 "nbformat": 4,
 "nbformat_minor": 5
}
