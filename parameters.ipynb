{
 "cells": [
  {
   "cell_type": "code",
   "execution_count": null,
   "id": "a71b6f40",
   "metadata": {},
   "outputs": [],
   "source": [
    "## Dates for GMS PMS data\n",
    "report_start = '2023-07-01' \n",
    "report_end = '2023-09-30'\n",
    "service_year = '2023-24'"
   ]
  }
 ],
 "metadata": {
  "kernelspec": {
   "display_name": "Python 3 (ipykernel)",
   "language": "python",
   "name": "python3"
  },
  "language_info": {
   "codemirror_mode": {
    "name": "ipython",
    "version": 3
   },
   "file_extension": ".py",
   "mimetype": "text/x-python",
   "name": "python",
   "nbconvert_exporter": "python",
   "pygments_lexer": "ipython3",
   "version": "3.9.13"
  }
 },
 "nbformat": 4,
 "nbformat_minor": 5
}
