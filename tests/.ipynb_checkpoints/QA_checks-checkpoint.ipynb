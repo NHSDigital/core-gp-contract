{
 "cells": [
  {
   "cell_type": "code",
   "execution_count": null,
   "id": "70319ff2",
   "metadata": {},
   "outputs": [],
   "source": [
    "%run ../main"
   ]
  },
  {
   "cell_type": "code",
   "execution_count": null,
   "id": "55b157d0",
   "metadata": {},
   "outputs": [],
   "source": [
    "#### Check final CSV has right column\n",
    "\n",
    "check_name = 'Intital check - all correct columns in the final csv'\n",
    "right_columns = [\"QUALITY_SERVICE\",\"PRACTICE_CODE\", \"PRACTICE_NAME\",\"ACH_DATE\",\"IND_CODE\",\"MEASURE\",\"MEASURE_TYPE\",\"VALUE\"]\n",
    "\n",
    "try:\n",
    "    assert main_supp_out.columns == right_columns\n",
    "    log_test(\"QA CHECK PASSED: \" + check_name)\n",
    "    \n",
    "except AssertionError:\n",
    "    log_test('QA CHECK FAILURE: '+check_name)    \n",
    "\n",
    "# COMMAND ----------\n",
    "\n",
    "#### Check final CSV has suppression\n",
    "\n",
    "\n",
    "# COMMAND ----------\n",
    "\n",
    "check_name = 'Intital check - Check if suppressed'\n",
    "\n",
    "suppression_count = main_supp_out.filter(main_supp_out[\"VALUE\"] == \"*\").count()\n",
    "\n",
    "try:\n",
    "    assert suppression_count > 0\n",
    "    log_test(\"QA CHECK PASSED: \" + check_name)\n",
    "    \n",
    "except AssertionError:\n",
    "    log_test('QA CHECK FAILURE: '+check_name)   \n",
    "\n",
    "# COMMAND ----------\n",
    "\n",
    "#### Check final CSV has correct amount of rows\n",
    "\n",
    "# COMMAND ----------\n",
    "\n",
    "check_name = 'Intital check - Check number of rows is > 6000'\n",
    "\n",
    "row_count = main_supp_out.count()\n",
    "\n",
    "try:\n",
    "    assert row_count >= 6000\n",
    "    log_test(\"QA CHECK PASSED: \" + check_name)\n",
    "    \n",
    "except AssertionError:\n",
    "    log_test('QA CHECK FAILURE: '+check_name)   \n",
    "\n",
    "# COMMAND ----------\n",
    "\n",
    "#### Check final CSV has valid data\n",
    "\n",
    "# COMMAND ----------\n",
    "\n",
    "##fix this\n",
    "check_name = 'Intital check - Check valid data'\n",
    "\n",
    "row_count = main_supp_out.count()\n",
    "\n",
    "try:\n",
    "    assert row_count >= 6000\n",
    "    log_test(\"QA CHECK PASSED: \" + check_name)\n",
    "    \n",
    "except AssertionError:\n",
    "    log_test('QA CHECK FAILURE: '+check_name)  "
   ]
  }
 ],
 "metadata": {
  "kernelspec": {
   "display_name": "Python 3 (ipykernel)",
   "language": "python",
   "name": "python3"
  },
  "language_info": {
   "codemirror_mode": {
    "name": "ipython",
    "version": 3
   },
   "file_extension": ".py",
   "mimetype": "text/x-python",
   "name": "python",
   "nbconvert_exporter": "python",
   "pygments_lexer": "ipython3",
   "version": "3.9.13"
  }
 },
 "nbformat": 4,
 "nbformat_minor": 5
}
